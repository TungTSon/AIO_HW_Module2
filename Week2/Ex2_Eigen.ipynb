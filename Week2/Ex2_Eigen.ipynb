{
 "cells": [
  {
   "cell_type": "markdown",
   "metadata": {},
   "source": [
    "**Eigenvector and Eigenvalue**"
   ]
  },
  {
   "cell_type": "markdown",
   "metadata": {},
   "source": [
    "Find eigenvector and eigenvalues of Matrix A\n",
    "\\begin{equation*}\n",
    "    A = \\begin{bmatrix}\n",
    "    0.9 & 0.2\\\\\n",
    "    0.1 & 0.8\n",
    "    \\end{bmatrix}\n",
    "\\end{equation*}\n",
    "\n",
    "\\begin{equation*}\n",
    "    det(A - λI) = \n",
    "    \\begin{vmatrix}\n",
    "    0.9 - λ & 0.2\\\\\n",
    "    0.1 & 0.8 - λ\n",
    "    \\end{vmatrix}\n",
    "    = (0.9 - λ)(0.8 - λ) - 0.1\\times 0.2\n",
    "\\end{equation*}\n",
    "\n",
    "\\begin{equation*}\n",
    "    = λ^2 - 1.7λ + 0.7\n",
    "\\end{equation*}\n",
    "\n",
    "- **Eigenvalue (λ)**: det(A - λI) = 0 gives $λ_1 = 1$ and $λ_2 = 0.7$\n",
    "\n",
    "- **Eigenvector ($v$)**: $v_1, v_2$\n",
    "\\begin{equation}\n",
    "(A - λI)v = \n",
    "    \\begin{bmatrix}\n",
    "    0.9 - λ & 0.2\\\\\n",
    "    0.1 & 0.8 - λ\n",
    "    \\end{bmatrix}\n",
    "    \\begin{bmatrix}\n",
    "    v_{11}\\\\\n",
    "    v_{21}\n",
    "    \\end{bmatrix}=0\n",
    "\\end{equation}\n",
    "\n",
    "With $λ_1$ = 1, equation (1) gives\n",
    "\n",
    "\\begin{equation*}\n",
    "-0.1v_{11} + 0.2v_{21} = 0\n",
    "\\end{equation*}\n",
    "\n",
    "\\begin{equation*}\n",
    "0.1v_{11} - 0.2v_{21} = 0\n",
    "\\end{equation*}\n",
    "\n",
    "\\begin{equation*}\n",
    "⟹ v_{11} = 2v_{21}\n",
    "\\end{equation*}\n",
    "\n",
    "\\begin{equation*}\n",
    "v_1=\n",
    "    \\begin{bmatrix}\n",
    "    2\\\\\n",
    "    1\n",
    "    \\end{bmatrix}\n",
    "\\end{equation*}\n",
    "\n",
    "With $λ_2$ = 0.7, equation (1) gives\n",
    "\n",
    "\\begin{equation*}\n",
    "0.2v_{11} + 0.2v_{21} = 0\n",
    "\\end{equation*}\n",
    "\n",
    "\\begin{equation*}\n",
    "0.1v_{11} + 0.1v_{21} = 0\n",
    "\\end{equation*}\n",
    "\n",
    "\\begin{equation*}\n",
    "⟹ v_{11} = -v_{21}\n",
    "\\end{equation*}\n",
    "\n",
    "\\begin{equation*}\n",
    "v_2=\n",
    "    \\begin{bmatrix}\n",
    "    -1\\\\\n",
    "    1\n",
    "    \\end{bmatrix}\n",
    "\\end{equation*}\n",
    "\n",
    "- **Normalize vector**:\n",
    "\\begin{equation*}\n",
    "v_1=\n",
    "    \\begin{bmatrix}\n",
    "    2/\\sqrt(5)\\\\\n",
    "    1/\\sqrt(5)\n",
    "    \\end{bmatrix},\n",
    "v_2 = \n",
    "\\begin{bmatrix}\n",
    "    -1/\\sqrt(2)\\\\\n",
    "    1/\\sqrt(2)\n",
    "    \\end{bmatrix}\n",
    "\\end{equation*}"
   ]
  },
  {
   "cell_type": "code",
   "execution_count": 1,
   "metadata": {},
   "outputs": [],
   "source": [
    "import numpy as np"
   ]
  },
  {
   "cell_type": "code",
   "execution_count": 2,
   "metadata": {},
   "outputs": [],
   "source": [
    "def compute_eigenvalues_eigenvectors(matrix):\n",
    "    eigenvalues, eigenvectors = np.linalg.eig(matrix)\n",
    "    # Normalize eigenvectors\n",
    "    eigenvectors = eigenvectors / np.linalg.norm(eigenvectors, axis=0)\n",
    "    return eigenvalues, eigenvectors"
   ]
  },
  {
   "cell_type": "code",
   "execution_count": 8,
   "metadata": {},
   "outputs": [
    {
     "name": "stdout",
     "output_type": "stream",
     "text": [
      "Eigenvalues: [1.  0.7]\n",
      "Eigenvectors 1:\n",
      " [[0.89442719]\n",
      " [0.4472136 ]]\n",
      "Eigenvectors 2:\n",
      " [[-0.70710678]\n",
      " [ 0.70710678]]\n"
     ]
    }
   ],
   "source": [
    "# Example matrix\n",
    "A = np.array([[0.9, 0.2], [0.1, 0.8]])\n",
    "\n",
    "# Compute eigenvalues and eigenvectors\n",
    "eigenvalues, eigenvectors = compute_eigenvalues_eigenvectors(A)\n",
    "\n",
    "print(\"Eigenvalues:\", eigenvalues)\n",
    "print(\"Eigenvectors 1:\\n\", eigenvectors[:,0:1])\n",
    "print(\"Eigenvectors 2:\\n\", eigenvectors[:,1:2])"
   ]
  }
 ],
 "metadata": {
  "kernelspec": {
   "display_name": "newenv",
   "language": "python",
   "name": "python3"
  },
  "language_info": {
   "codemirror_mode": {
    "name": "ipython",
    "version": 3
   },
   "file_extension": ".py",
   "mimetype": "text/x-python",
   "name": "python",
   "nbconvert_exporter": "python",
   "pygments_lexer": "ipython3",
   "version": "3.11.9"
  }
 },
 "nbformat": 4,
 "nbformat_minor": 2
}

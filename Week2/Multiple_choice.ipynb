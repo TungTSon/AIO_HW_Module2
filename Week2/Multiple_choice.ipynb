{
 "cells": [
  {
   "cell_type": "code",
   "execution_count": 1,
   "metadata": {},
   "outputs": [],
   "source": [
    "import numpy as np"
   ]
  },
  {
   "cell_type": "code",
   "execution_count": 3,
   "metadata": {},
   "outputs": [
    {
     "name": "stdout",
     "output_type": "stream",
     "text": [
      "result \n",
      " [ 3 -5]\n"
     ]
    }
   ],
   "source": [
    "x = np. array ([[ -1 , 2],\n",
    "                [3, -4]])\n",
    "k = np. array ([1 , 2])\n",
    "print ('result \\n', x@k)"
   ]
  },
  {
   "cell_type": "code",
   "execution_count": 4,
   "metadata": {},
   "outputs": [],
   "source": [
    "def matrix_multi_vector(matrix, vector):\n",
    "    result = matrix @ vector\n",
    "    return result"
   ]
  },
  {
   "cell_type": "code",
   "execution_count": 5,
   "metadata": {},
   "outputs": [
    {
     "name": "stdout",
     "output_type": "stream",
     "text": [
      "[3 1]\n"
     ]
    }
   ],
   "source": [
    "m = np. array ([[ -1 , 1, 1], [0, -4, 9]])\n",
    "v = np. array ([0 , 2, 1])\n",
    "result = matrix_multi_vector (m, v)\n",
    "print ( result )"
   ]
  },
  {
   "cell_type": "code",
   "execution_count": 6,
   "metadata": {},
   "outputs": [],
   "source": [
    "def matrix_multi_matrix(matrix1, matrix2):\n",
    "    len_of_vector = np.matmul(matrix1, matrix2)\n",
    "    return len_of_vector"
   ]
  },
  {
   "cell_type": "code",
   "execution_count": 7,
   "metadata": {},
   "outputs": [
    {
     "name": "stdout",
     "output_type": "stream",
     "text": [
      "[[  6  -1]\n",
      " [-16 -10]]\n"
     ]
    }
   ],
   "source": [
    "m1 = np. array ([[0 , 1, 2], [2, -3, 1]])\n",
    "m2 = np. array ([[1 , -3] ,[6 , 1], [0, -1]])\n",
    "result = matrix_multi_matrix (m1 , m2)\n",
    "print ( result )"
   ]
  },
  {
   "cell_type": "code",
   "execution_count": 8,
   "metadata": {},
   "outputs": [
    {
     "name": "stdout",
     "output_type": "stream",
     "text": [
      "[5. 5. 5. 5.]\n"
     ]
    }
   ],
   "source": [
    "m1 = np.eye (2)\n",
    "m1 = np. reshape (m1 ,( -1 ,4))[0]\n",
    "m2 = np. array ([[1 , 1, 1, 1] ,[2 , 2, 2, 2], [3, 3, 3, 3], [4, 4, 4, 4]])\n",
    "result = m1@m2\n",
    "print ( result )"
   ]
  },
  {
   "cell_type": "code",
   "execution_count": 15,
   "metadata": {},
   "outputs": [
    {
     "name": "stdout",
     "output_type": "stream",
     "text": [
      "[1 3 2 4]\n"
     ]
    }
   ],
   "source": [
    "m1 = np. array ([[1 , 2], [3, 4]])\n",
    "m1 = np. reshape (m1 ,( -1 ,4) , \"F\")[0]\n",
    "print(m1)"
   ]
  },
  {
   "cell_type": "code",
   "execution_count": 16,
   "metadata": {},
   "outputs": [
    {
     "name": "stdout",
     "output_type": "stream",
     "text": [
      "[29 29 29 29]\n"
     ]
    }
   ],
   "source": [
    "m2 = np. array ([[1 , 1, 1, 1] ,[2 , 2, 2, 2], [3, 3, 3, 3], [4, 4, 4, 4]])\n",
    "result = m1@m2\n",
    "print ( result )"
   ]
  },
  {
   "cell_type": "code",
   "execution_count": 17,
   "metadata": {},
   "outputs": [
    {
     "name": "stdout",
     "output_type": "stream",
     "text": [
      "[[0.1  0.15]\n",
      " [0.2  0.05]]\n"
     ]
    }
   ],
   "source": [
    "def inverse_matrix(matrix):\n",
    "    det = np.linalg.det(matrix) # compute and check the determinant first\n",
    "    if det == 0:\n",
    "        raise TypeError(\"Determinant equals ZERO, the matrix is invertible\")\n",
    "    result = np.linalg.inv(matrix)\n",
    "    return result\n",
    "    \n",
    "m1 = np. array ([[ -2 , 6], [8, -4]])\n",
    "result = inverse_matrix (m1)\n",
    "print ( result )"
   ]
  }
 ],
 "metadata": {
  "kernelspec": {
   "display_name": "newenv",
   "language": "python",
   "name": "python3"
  },
  "language_info": {
   "codemirror_mode": {
    "name": "ipython",
    "version": 3
   },
   "file_extension": ".py",
   "mimetype": "text/x-python",
   "name": "python",
   "nbconvert_exporter": "python",
   "pygments_lexer": "ipython3",
   "version": "3.11.9"
  }
 },
 "nbformat": 4,
 "nbformat_minor": 2
}

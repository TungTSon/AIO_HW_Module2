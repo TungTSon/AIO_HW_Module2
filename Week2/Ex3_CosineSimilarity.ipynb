{
 "cells": [
  {
   "cell_type": "code",
   "execution_count": 33,
   "metadata": {},
   "outputs": [],
   "source": [
    "import numpy as np\n",
    "def compute_cosine(v1, v2):\n",
    "    # Ensure input vectors are numpy arrays\n",
    "    v1 = np.array(v1)\n",
    "    v2 = np.array(v2)\n",
    "    # Reshape vectors to 1D if they are 2D\n",
    "    if v1.ndim == 2:\n",
    "        if v1.shape[0] == 1 or v1.shape[1] == 1:\n",
    "            v1 = v1.flatten()\n",
    "        else:\n",
    "            raise ValueError(\"v1 must be a 1D vector or a single row/column 2D array\")\n",
    "    if v2.ndim == 2:\n",
    "        if v2.shape[0] == 1 or v2.shape[1] == 1:\n",
    "            v2 = v2.flatten()\n",
    "        else:\n",
    "            raise ValueError(\"v2 must be a 1D vector or a single row/column 2D array\")\n",
    "    # Check that the vectors have the same length\n",
    "    if v1.shape != v2.shape:\n",
    "        raise ValueError(\"Vectors must be of the same length\")   \n",
    "    # Calculate the cosine similarity\n",
    "    cosine_sim = np.dot(v1, v2) / (np.linalg.norm(v1) * np.linalg.norm(v2))\n",
    "    \n",
    "    return cosine_sim"
   ]
  },
  {
   "cell_type": "markdown",
   "metadata": {},
   "source": [
    "Given $\\mathbf{x} = [1, 2, 3, 4]$ and $\\mathbf{y} = [1, 0, 3, 0]$\n",
    "\n",
    "\\begin{equation*}\n",
    "\\text{cs}(\\mathbf{x}, \\mathbf{y}) = \\frac{\\mathbf{x} \\cdot \\mathbf{y}}{|\\mathbf{x}| |\\mathbf{y}|} = \\frac{1 \\cdot 1 + 2 \\cdot 0 + 3 \\cdot 3 + 4 \\cdot 0}{\\sqrt{1^2 + 2^2 + 3^2 + 4^2} \\sqrt{1^2 + 0^2 + 3^2 + 0^2}}\n",
    "\\end{equation*}\n",
    "\n",
    "\\begin{equation*}\n",
    "= \\frac{1 + 0 + 9 + 0}{\\sqrt{1 + 4 + 9 + 16} \\cdot \\sqrt{1 + 0 + 9 + 0}} = \\frac{10}{\\sqrt{30} \\cdot \\sqrt{10}} = \\frac{10}{\\sqrt{300}} = \\frac{10}{10\\sqrt{3}} = \\frac{1}{\\sqrt{3}} \\approx 0.57735\n",
    "\\end{equation*}"
   ]
  },
  {
   "cell_type": "code",
   "execution_count": 40,
   "metadata": {},
   "outputs": [
    {
     "name": "stdout",
     "output_type": "stream",
     "text": [
      "0.5773502691896257\n"
     ]
    }
   ],
   "source": [
    "x = np.array([1, 2, 3, 4])\n",
    "y = np.array([1, 0, 3, 0])\n",
    "print(compute_cosine(x, y))"
   ]
  }
 ],
 "metadata": {
  "kernelspec": {
   "display_name": "newenv",
   "language": "python",
   "name": "python3"
  },
  "language_info": {
   "codemirror_mode": {
    "name": "ipython",
    "version": 3
   },
   "file_extension": ".py",
   "mimetype": "text/x-python",
   "name": "python",
   "nbconvert_exporter": "python",
   "pygments_lexer": "ipython3",
   "version": "3.11.9"
  }
 },
 "nbformat": 4,
 "nbformat_minor": 2
}

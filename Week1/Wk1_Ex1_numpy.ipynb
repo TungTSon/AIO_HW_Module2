{
  "cells": [
    {
      "cell_type": "code",
      "execution_count": null,
      "metadata": {
        "id": "gV9Ei08wfmKV"
      },
      "outputs": [],
      "source": [
        "import numpy as np"
      ]
    },
    {
      "cell_type": "markdown",
      "metadata": {
        "id": "eISBfTPWj0eH"
      },
      "source": [
        "**Bài tập 1: Numpy Cơ Bản**"
      ]
    },
    {
      "cell_type": "code",
      "execution_count": null,
      "metadata": {
        "colab": {
          "base_uri": "https://localhost:8080/"
        },
        "id": "TT0aL41GgHwI",
        "outputId": "a88962a8-a383-4c1e-fccc-b09f7ceb82a7"
      },
      "outputs": [
        {
          "name": "stdout",
          "output_type": "stream",
          "text": [
            "[[ True  True  True]\n",
            " [ True  True  True]\n",
            " [ True  True  True]]\n"
          ]
        }
      ],
      "source": [
        "#Question 2\n",
        "arr = np.ones((3, 3), dtype=bool)\n",
        "print(arr)"
      ]
    },
    {
      "cell_type": "code",
      "execution_count": null,
      "metadata": {
        "colab": {
          "base_uri": "https://localhost:8080/"
        },
        "id": "EvTwwXbZgPwK",
        "outputId": "1a0de0e2-93d8-4dc8-deea-fc04cb7b3ad0"
      },
      "outputs": [
        {
          "name": "stdout",
          "output_type": "stream",
          "text": [
            "[[ True  True  True]\n",
            " [ True  True  True]\n",
            " [ True  True  True]]\n"
          ]
        }
      ],
      "source": [
        "#Question 2\n",
        "arr = np.full((3, 3), fill_value=True, dtype=bool)\n",
        "print(arr)"
      ]
    },
    {
      "cell_type": "code",
      "execution_count": null,
      "metadata": {
        "colab": {
          "base_uri": "https://localhost:8080/"
        },
        "id": "Sv3nQfcBgZ1A",
        "outputId": "98b53347-9b5a-4932-9020-045fafdbcbb4"
      },
      "outputs": [
        {
          "name": "stdout",
          "output_type": "stream",
          "text": [
            "[1 3 5 7 9]\n"
          ]
        }
      ],
      "source": [
        "# Question 3\n",
        "arr = np.arange (0 ,10)\n",
        "print(arr[arr%2 == 1])"
      ]
    },
    {
      "cell_type": "code",
      "execution_count": null,
      "metadata": {
        "colab": {
          "base_uri": "https://localhost:8080/"
        },
        "id": "9a_Yv336gzhh",
        "outputId": "bb2bb77d-4aaa-4c6a-8443-67dbb58bfe9a"
      },
      "outputs": [
        {
          "name": "stdout",
          "output_type": "stream",
          "text": [
            "[ 0 -1  2 -1  4 -1  6 -1  8 -1]\n"
          ]
        }
      ],
      "source": [
        "# Question 4\n",
        "arr = np.arange(0 ,10)\n",
        "arr[arr%2 == 1] = -1\n",
        "print(arr)"
      ]
    },
    {
      "cell_type": "code",
      "execution_count": null,
      "metadata": {
        "colab": {
          "base_uri": "https://localhost:8080/"
        },
        "id": "rTzkVi6Jiaig",
        "outputId": "c0de7467-bf9f-4703-f05e-5a19fe1531e5"
      },
      "outputs": [
        {
          "name": "stdout",
          "output_type": "stream",
          "text": [
            "[0 1 2 3 4 5 6 7 8 9]\n",
            "[[0 1 2 3 4]\n",
            " [5 6 7 8 9]]\n"
          ]
        }
      ],
      "source": [
        "# Question 5\n",
        "arr = np.arange(10)\n",
        "arr_2d = arr.reshape(2 , -1)\n",
        "print(arr)\n",
        "print(arr_2d)"
      ]
    },
    {
      "cell_type": "code",
      "execution_count": null,
      "metadata": {
        "colab": {
          "base_uri": "https://localhost:8080/"
        },
        "id": "HDpme5FBi3qh",
        "outputId": "cb230d28-b352-4d86-9129-dbd1c5174cef"
      },
      "outputs": [
        {
          "name": "stdout",
          "output_type": "stream",
          "text": [
            "[[0 1 2 3 4]\n",
            " [5 6 7 8 9]]\n",
            "[[1 1 1 1 1]\n",
            " [1 1 1 1 1]]\n",
            "Result : \n",
            " [[0 1 2 3 4]\n",
            " [5 6 7 8 9]\n",
            " [1 1 1 1 1]\n",
            " [1 1 1 1 1]]\n"
          ]
        }
      ],
      "source": [
        "# Question 6\n",
        "arr1 = np.arange(10).reshape (2 , -1)\n",
        "arr2 = np.repeat(1,10).reshape(2 , -1)\n",
        "print(arr1)\n",
        "print(arr2)\n",
        "c = np.concatenate([arr1, arr2 ], axis=0)\n",
        "print(\"Result : \\n\", c)"
      ]
    },
    {
      "cell_type": "code",
      "execution_count": null,
      "metadata": {
        "colab": {
          "base_uri": "https://localhost:8080/"
        },
        "id": "DtAX2CDEjmJS",
        "outputId": "5922960c-ba9d-4750-92f2-cc489c72c77b"
      },
      "outputs": [
        {
          "name": "stdout",
          "output_type": "stream",
          "text": [
            "[[0 1 2 3 4]\n",
            " [5 6 7 8 9]]\n",
            "[[1 1 1 1 1]\n",
            " [1 1 1 1 1]]\n",
            "C =  [[0 1 2 3 4 1 1 1 1 1]\n",
            " [5 6 7 8 9 1 1 1 1 1]]\n"
          ]
        }
      ],
      "source": [
        "# Question 7\n",
        "arr1 = np.arange(10).reshape(2 , -1)\n",
        "arr2 = np.repeat(1 ,10).reshape(2 , -1)\n",
        "print(arr1)\n",
        "print(arr2)\n",
        "c = np.concatenate([arr1, arr2], axis=1)\n",
        "print (\"C = \", c)"
      ]
    },
    {
      "cell_type": "code",
      "execution_count": null,
      "metadata": {
        "colab": {
          "base_uri": "https://localhost:8080/"
        },
        "id": "7-7Aut3fkvls",
        "outputId": "8643254e-0660-4651-9f63-a04d71086e58"
      },
      "outputs": [
        {
          "name": "stdout",
          "output_type": "stream",
          "text": [
            "np.repeat:  [1 1 1 2 2 2 3 3 3]\n",
            "[1 2 3 1 2 3 1 2 3]\n"
          ]
        }
      ],
      "source": [
        "# Question 8\n",
        "arr = np.array([1 ,2 ,3])\n",
        "print(\"np.repeat: \", np.repeat(arr , 3))\n",
        "print(np.tile(arr ,3))"
      ]
    },
    {
      "cell_type": "code",
      "execution_count": null,
      "metadata": {
        "colab": {
          "base_uri": "https://localhost:8080/"
        },
        "id": "7Al9cAlhlV2A",
        "outputId": "053bf510-d66e-41dd-84d0-336fd4371635"
      },
      "outputs": [
        {
          "name": "stdout",
          "output_type": "stream",
          "text": [
            "index:  (array([1, 3, 4]),)\n",
            "<class 'tuple'>\n",
            "result:  [ 6  9 10]\n"
          ]
        }
      ],
      "source": [
        "# Question 9\n",
        "a = np.array([2, 6, 1, 9, 10, 3, 27])\n",
        "index = np.where((a >=5) &(a <=10) )\n",
        "print(\"index: \", index)\n",
        "print(type(index))\n",
        "print(\"result: \", a[index])"
      ]
    },
    {
      "cell_type": "code",
      "execution_count": null,
      "metadata": {
        "colab": {
          "base_uri": "https://localhost:8080/"
        },
        "id": "C1cqjQT2lXew",
        "outputId": "2a617b08-43da-4158-de74-d6fe3a7cc167"
      },
      "outputs": [
        {
          "name": "stdout",
          "output_type": "stream",
          "text": [
            "<numpy.vectorize object at 0x7f191e4981f0>\n",
            "[6. 7. 9. 8. 9. 7. 5.]\n"
          ]
        }
      ],
      "source": [
        "# Question 10\n",
        "def maxx(x,y):\n",
        "  if x >= y :\n",
        "    return x\n",
        "  else :\n",
        "    return y\n",
        "\n",
        "a = np. array ([5, 7, 9, 8, 6, 4, 5])\n",
        "b = np. array ([6, 3, 4, 8, 9, 7, 1])\n",
        "pair_max = np.vectorize(maxx , otypes=[float])\n",
        "print(pair_max)\n",
        "print(pair_max(a, b))"
      ]
    },
    {
      "cell_type": "code",
      "execution_count": null,
      "metadata": {
        "colab": {
          "base_uri": "https://localhost:8080/"
        },
        "id": "dxGkJzhZmxqe",
        "outputId": "f79c798b-b282-4a64-e4be-4d13d42f0167"
      },
      "outputs": [
        {
          "name": "stdout",
          "output_type": "stream",
          "text": [
            "Result  [6 7 9 8 9 7 5]\n"
          ]
        }
      ],
      "source": [
        "# Question 11\n",
        "a = np.array([5, 7, 9, 8, 6, 4, 5])\n",
        "b = np.array([6, 3, 4, 8, 9, 7, 1])\n",
        "print(\"Result \", np.where(a<b, b, a))"
      ]
    }
  ],
  "metadata": {
    "accelerator": "GPU",
    "colab": {
      "gpuType": "T4",
      "provenance": []
    },
    "kernelspec": {
      "display_name": "Python 3",
      "name": "python3"
    },
    "language_info": {
      "name": "python",
      "version": "3.11.9"
    }
  },
  "nbformat": 4,
  "nbformat_minor": 0
}

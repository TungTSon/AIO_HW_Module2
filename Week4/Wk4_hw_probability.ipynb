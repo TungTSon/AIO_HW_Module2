{
  "cells": [
    {
      "cell_type": "markdown",
      "metadata": {
        "id": "_EtTSaxXl3iN"
      },
      "source": [
        "**1. Basic Probability**"
      ]
    },
    {
      "cell_type": "code",
      "execution_count": 1,
      "metadata": {
        "colab": {
          "base_uri": "https://localhost:8080/"
        },
        "id": "_zSEt9L6hWnM",
        "outputId": "ebeefc62-5801-4a24-a95f-b05c2e1ac226"
      },
      "outputs": [
        {
          "name": "stdout",
          "output_type": "stream",
          "text": [
            "Mean:  1.8\n"
          ]
        }
      ],
      "source": [
        "### Question 1\n",
        "import numpy as np\n",
        "def compute_mean(X):\n",
        "  return np.mean(X)\n",
        "X = [2, 0, 2, 2, 7, 4, -2, 5, -1, -1]\n",
        "print (\"Mean: \", compute_mean(X))"
      ]
    },
    {
      "cell_type": "code",
      "execution_count": 2,
      "metadata": {
        "colab": {
          "base_uri": "https://localhost:8080/"
        },
        "id": "ov6wzGOQiLDN",
        "outputId": "809035a2-5851-41e8-f9d7-149548412168"
      },
      "outputs": [
        {
          "name": "stdout",
          "output_type": "stream",
          "text": [
            "[ 1  4  4  5  9 13]\n",
            "Median:  4.5\n"
          ]
        }
      ],
      "source": [
        "### Question 2\n",
        "def compute_median(X):\n",
        "  size = len(X)\n",
        "  X = np.sort(X)\n",
        "  print(X)\n",
        "  if(size % 2 == 0):\n",
        "    return (X[size//2] + X[size//2 - 1])/2\n",
        "  else :\n",
        "    return X[size//2]\n",
        "\n",
        "X = [1, 5, 4, 4, 9, 13]\n",
        "print (\"Median: \", compute_median(X))"
      ]
    },
    {
      "cell_type": "code",
      "execution_count": 3,
      "metadata": {
        "colab": {
          "base_uri": "https://localhost:8080/"
        },
        "id": "wT3NvzqZisp2",
        "outputId": "80bb9e5f-864f-4916-85f6-cb8923ad6611"
      },
      "outputs": [
        {
          "name": "stdout",
          "output_type": "stream",
          "text": [
            "8.32666399786453\n"
          ]
        }
      ],
      "source": [
        "### Question 3\n",
        "def compute_std(X):\n",
        "  mean = compute_mean(X)\n",
        "  variance = 0\n",
        "  for x in X:\n",
        "    variance += (x - mean)**2\n",
        "  variance /= len(X)\n",
        "  return np. sqrt(variance)\n",
        "\n",
        "X = [171 , 176 , 155 , 167 , 169 , 182]\n",
        "print(compute_std(X))"
      ]
    },
    {
      "cell_type": "code",
      "execution_count": 4,
      "metadata": {
        "colab": {
          "base_uri": "https://localhost:8080/"
        },
        "id": "nBdf7HeEjjFS",
        "outputId": "887def13-e608-488b-ad62-7f305255fc94"
      },
      "outputs": [
        {
          "name": "stdout",
          "output_type": "stream",
          "text": [
            "Correlation:  0.42\n"
          ]
        }
      ],
      "source": [
        "### Question 4\n",
        "def compute_correlation_cofficient(X, Y):\n",
        "  N = len(X)\n",
        "  sigma_x, sigma_y = np.sum(X), np.sum(Y)\n",
        "  sigma_xy = np.dot(X, Y)\n",
        "  numerator = N*sigma_xy - sigma_x*sigma_y\n",
        "\n",
        "  denominator = np.sqrt(N*np.sum(X**2) - sigma_x**2) * np.sqrt(N*np.sum(Y**2) - sigma_y**2)\n",
        "  return np.round(numerator / denominator, 2)\n",
        "\n",
        "X = np.asarray([-2, -5, -11, 6, 4, 15, 9])\n",
        "Y = np.asarray([4, 25, 121, 36, 16, 225, 81])\n",
        "print (\"Correlation: \", compute_correlation_cofficient (X,Y))"
      ]
    },
    {
      "cell_type": "markdown",
      "metadata": {
        "id": "_cbyoobkl7u0"
      },
      "source": [
        "**2. Tabular Data Analysis**"
      ]
    },
    {
      "cell_type": "code",
      "execution_count": 5,
      "metadata": {
        "colab": {
          "base_uri": "https://localhost:8080/"
        },
        "id": "Rl5TtRrUmsgV",
        "outputId": "f8bcf4af-85fc-4dfc-b90c-92b6bb41b83e"
      },
      "outputs": [
        {
          "name": "stderr",
          "output_type": "stream",
          "text": [
            "Downloading...\n",
            "From: https://drive.google.com/uc?id=1iA0WmVfW88HyJvTBSQDI5vesf-pgKabq\n",
            "To: d:\\OneDrive\\PythonAI_Course\\Modules\\Homework\\AIO_HW_Module2\\Week4\\advertising.csv\n",
            "\n",
            "  0%|          | 0.00/4.06k [00:00<?, ?B/s]\n",
            "100%|██████████| 4.06k/4.06k [00:00<?, ?B/s]\n"
          ]
        }
      ],
      "source": [
        "# Download dataset :\n",
        "!gdown 1iA0WmVfW88HyJvTBSQDI5vesf-pgKabq"
      ]
    },
    {
      "cell_type": "code",
      "execution_count": 6,
      "metadata": {
        "colab": {
          "base_uri": "https://localhost:8080/",
          "height": 423
        },
        "id": "siOht_5ImEI1",
        "outputId": "1d1e5da7-c052-4182-c0b6-93e92e139493"
      },
      "outputs": [
        {
          "data": {
            "text/html": [
              "<div>\n",
              "<style scoped>\n",
              "    .dataframe tbody tr th:only-of-type {\n",
              "        vertical-align: middle;\n",
              "    }\n",
              "\n",
              "    .dataframe tbody tr th {\n",
              "        vertical-align: top;\n",
              "    }\n",
              "\n",
              "    .dataframe thead th {\n",
              "        text-align: right;\n",
              "    }\n",
              "</style>\n",
              "<table border=\"1\" class=\"dataframe\">\n",
              "  <thead>\n",
              "    <tr style=\"text-align: right;\">\n",
              "      <th></th>\n",
              "      <th>TV</th>\n",
              "      <th>Radio</th>\n",
              "      <th>Newspaper</th>\n",
              "      <th>Sales</th>\n",
              "    </tr>\n",
              "  </thead>\n",
              "  <tbody>\n",
              "    <tr>\n",
              "      <th>0</th>\n",
              "      <td>230.1</td>\n",
              "      <td>37.8</td>\n",
              "      <td>69.2</td>\n",
              "      <td>22.1</td>\n",
              "    </tr>\n",
              "    <tr>\n",
              "      <th>1</th>\n",
              "      <td>44.5</td>\n",
              "      <td>39.3</td>\n",
              "      <td>45.1</td>\n",
              "      <td>10.4</td>\n",
              "    </tr>\n",
              "    <tr>\n",
              "      <th>2</th>\n",
              "      <td>17.2</td>\n",
              "      <td>45.9</td>\n",
              "      <td>69.3</td>\n",
              "      <td>12.0</td>\n",
              "    </tr>\n",
              "    <tr>\n",
              "      <th>3</th>\n",
              "      <td>151.5</td>\n",
              "      <td>41.3</td>\n",
              "      <td>58.5</td>\n",
              "      <td>16.5</td>\n",
              "    </tr>\n",
              "    <tr>\n",
              "      <th>4</th>\n",
              "      <td>180.8</td>\n",
              "      <td>10.8</td>\n",
              "      <td>58.4</td>\n",
              "      <td>17.9</td>\n",
              "    </tr>\n",
              "    <tr>\n",
              "      <th>...</th>\n",
              "      <td>...</td>\n",
              "      <td>...</td>\n",
              "      <td>...</td>\n",
              "      <td>...</td>\n",
              "    </tr>\n",
              "    <tr>\n",
              "      <th>195</th>\n",
              "      <td>38.2</td>\n",
              "      <td>3.7</td>\n",
              "      <td>13.8</td>\n",
              "      <td>7.6</td>\n",
              "    </tr>\n",
              "    <tr>\n",
              "      <th>196</th>\n",
              "      <td>94.2</td>\n",
              "      <td>4.9</td>\n",
              "      <td>8.1</td>\n",
              "      <td>14.0</td>\n",
              "    </tr>\n",
              "    <tr>\n",
              "      <th>197</th>\n",
              "      <td>177.0</td>\n",
              "      <td>9.3</td>\n",
              "      <td>6.4</td>\n",
              "      <td>14.8</td>\n",
              "    </tr>\n",
              "    <tr>\n",
              "      <th>198</th>\n",
              "      <td>283.6</td>\n",
              "      <td>42.0</td>\n",
              "      <td>66.2</td>\n",
              "      <td>25.5</td>\n",
              "    </tr>\n",
              "    <tr>\n",
              "      <th>199</th>\n",
              "      <td>232.1</td>\n",
              "      <td>8.6</td>\n",
              "      <td>8.7</td>\n",
              "      <td>18.4</td>\n",
              "    </tr>\n",
              "  </tbody>\n",
              "</table>\n",
              "<p>200 rows × 4 columns</p>\n",
              "</div>"
            ],
            "text/plain": [
              "        TV  Radio  Newspaper  Sales\n",
              "0    230.1   37.8       69.2   22.1\n",
              "1     44.5   39.3       45.1   10.4\n",
              "2     17.2   45.9       69.3   12.0\n",
              "3    151.5   41.3       58.5   16.5\n",
              "4    180.8   10.8       58.4   17.9\n",
              "..     ...    ...        ...    ...\n",
              "195   38.2    3.7       13.8    7.6\n",
              "196   94.2    4.9        8.1   14.0\n",
              "197  177.0    9.3        6.4   14.8\n",
              "198  283.6   42.0       66.2   25.5\n",
              "199  232.1    8.6        8.7   18.4\n",
              "\n",
              "[200 rows x 4 columns]"
            ]
          },
          "metadata": {},
          "output_type": "display_data"
        }
      ],
      "source": [
        "import pandas as pd\n",
        "data = pd.read_csv(\"./advertising.csv\")\n",
        "# displaying the DataFrame\n",
        "display(data)\n"
      ]
    },
    {
      "cell_type": "code",
      "execution_count": 7,
      "metadata": {
        "id": "5RrZ01m8oad7"
      },
      "outputs": [],
      "source": [
        "def correlation(x, y):  # compute correlatiob between x and y\n",
        "    # Calculate the mean of x and y\n",
        "    x_mean = x.mean()\n",
        "    y_mean = y.mean()\n",
        "\n",
        "    numerator = ((x - x_mean) * (y - y_mean)).sum()\n",
        "    denominator = (((x - x_mean)**2).sum() * ((y - y_mean)**2).sum()) ** 0.5\n",
        "\n",
        "    return numerator / denominator"
      ]
    },
    {
      "cell_type": "code",
      "execution_count": 8,
      "metadata": {
        "colab": {
          "base_uri": "https://localhost:8080/"
        },
        "id": "kkW6OfHbnbN2",
        "outputId": "c4b595e8-5945-4349-b6a0-87339344bd5f"
      },
      "outputs": [
        {
          "name": "stdout",
          "output_type": "stream",
          "text": [
            "Correlation between TV and Sales: 0.05\n"
          ]
        }
      ],
      "source": [
        "# Example usage :\n",
        "x = data[\"TV\"]\n",
        "y = data[\"Radio\"]\n",
        "corr_xy = correlation(x, y)\n",
        "print (f\"Correlation between TV and Sales: {round(corr_xy , 2)}\")"
      ]
    },
    {
      "cell_type": "code",
      "execution_count": 9,
      "metadata": {
        "colab": {
          "base_uri": "https://localhost:8080/"
        },
        "id": "2qx0Y-RMolh0",
        "outputId": "92afe3df-647a-418d-edc4-6708296ff266"
      },
      "outputs": [
        {
          "name": "stdout",
          "output_type": "stream",
          "text": [
            "Correlation between TV and TV: 1.0\n",
            "Correlation between TV and Radio: 0.05\n",
            "Correlation between TV and Newspaper: 0.06\n",
            "Correlation between Radio and TV: 0.05\n",
            "Correlation between Radio and Radio: 1.0\n",
            "Correlation between Radio and Newspaper: 0.35\n",
            "Correlation between Newspaper and TV: 0.06\n",
            "Correlation between Newspaper and Radio: 0.35\n",
            "Correlation between Newspaper and Newspaper: 1.0\n"
          ]
        }
      ],
      "source": [
        "### Question 6\n",
        "features = [\"TV\", \"Radio\", \"Newspaper\"]\n",
        "for feature_1 in features :\n",
        "  for feature_2 in features :\n",
        "    correlation_value = correlation(data[feature_1], data[feature_2])\n",
        "    print (f\"Correlation between {feature_1} and {feature_2}: {round(correlation_value , 2)}\")"
      ]
    },
    {
      "cell_type": "code",
      "execution_count": 10,
      "metadata": {
        "colab": {
          "base_uri": "https://localhost:8080/"
        },
        "id": "07ctJoonrRnT",
        "outputId": "891ef116-9fed-42af-fd71-afd679f9d3da"
      },
      "outputs": [
        {
          "name": "stdout",
          "output_type": "stream",
          "text": [
            "[[1.         0.05664787]\n",
            " [0.05664787 1.        ]]\n"
          ]
        }
      ],
      "source": [
        "### Question 7\n",
        "x = data[\"TV\"]\n",
        "y = data[\"Newspaper\"]\n",
        "result = np.corrcoef(x, y)\n",
        "print(result)\n",
        "# Expected output : [[1. 0.35410375]\n",
        "#                   [0.35410375 1. ]]"
      ]
    },
    {
      "cell_type": "code",
      "execution_count": 11,
      "metadata": {
        "colab": {
          "base_uri": "https://localhost:8080/",
          "height": 175
        },
        "id": "walhD7-EtHUZ",
        "outputId": "2fd10ffd-9019-4c01-937e-0ecb6aa849ab"
      },
      "outputs": [
        {
          "data": {
            "text/html": [
              "<div>\n",
              "<style scoped>\n",
              "    .dataframe tbody tr th:only-of-type {\n",
              "        vertical-align: middle;\n",
              "    }\n",
              "\n",
              "    .dataframe tbody tr th {\n",
              "        vertical-align: top;\n",
              "    }\n",
              "\n",
              "    .dataframe thead th {\n",
              "        text-align: right;\n",
              "    }\n",
              "</style>\n",
              "<table border=\"1\" class=\"dataframe\">\n",
              "  <thead>\n",
              "    <tr style=\"text-align: right;\">\n",
              "      <th></th>\n",
              "      <th>TV</th>\n",
              "      <th>Radio</th>\n",
              "      <th>Newspaper</th>\n",
              "      <th>Sales</th>\n",
              "    </tr>\n",
              "  </thead>\n",
              "  <tbody>\n",
              "    <tr>\n",
              "      <th>TV</th>\n",
              "      <td>1.000000</td>\n",
              "      <td>0.054809</td>\n",
              "      <td>0.056648</td>\n",
              "      <td>0.901208</td>\n",
              "    </tr>\n",
              "    <tr>\n",
              "      <th>Radio</th>\n",
              "      <td>0.054809</td>\n",
              "      <td>1.000000</td>\n",
              "      <td>0.354104</td>\n",
              "      <td>0.349631</td>\n",
              "    </tr>\n",
              "    <tr>\n",
              "      <th>Newspaper</th>\n",
              "      <td>0.056648</td>\n",
              "      <td>0.354104</td>\n",
              "      <td>1.000000</td>\n",
              "      <td>0.157960</td>\n",
              "    </tr>\n",
              "    <tr>\n",
              "      <th>Sales</th>\n",
              "      <td>0.901208</td>\n",
              "      <td>0.349631</td>\n",
              "      <td>0.157960</td>\n",
              "      <td>1.000000</td>\n",
              "    </tr>\n",
              "  </tbody>\n",
              "</table>\n",
              "</div>"
            ],
            "text/plain": [
              "                 TV     Radio  Newspaper     Sales\n",
              "TV         1.000000  0.054809   0.056648  0.901208\n",
              "Radio      0.054809  1.000000   0.354104  0.349631\n",
              "Newspaper  0.056648  0.354104   1.000000  0.157960\n",
              "Sales      0.901208  0.349631   0.157960  1.000000"
            ]
          },
          "metadata": {},
          "output_type": "display_data"
        }
      ],
      "source": [
        "### Question 8\n",
        "features = [\"TV\", \"Radio\", \"Newspaper\", \"Sales\"]\n",
        "correlation_matrix = []\n",
        "for feature_1 in features:\n",
        "  row = []\n",
        "  for feature_2 in features:\n",
        "    correlation_value = correlation(data[feature_1], data[feature_2])\n",
        "    row.append(correlation_value)\n",
        "  correlation_matrix.append(row)\n",
        "\n",
        "# Create a Pandas DataFrame for display\n",
        "df = pd.DataFrame(correlation_matrix, columns=features, index=features)\n",
        "display(df)"
      ]
    },
    {
      "cell_type": "code",
      "execution_count": 12,
      "metadata": {
        "colab": {
          "base_uri": "https://localhost:8080/",
          "height": 175
        },
        "id": "NCp5Rdcqtj2R",
        "outputId": "796f6683-f801-498c-a4dc-dca189b36901"
      },
      "outputs": [
        {
          "data": {
            "text/html": [
              "<div>\n",
              "<style scoped>\n",
              "    .dataframe tbody tr th:only-of-type {\n",
              "        vertical-align: middle;\n",
              "    }\n",
              "\n",
              "    .dataframe tbody tr th {\n",
              "        vertical-align: top;\n",
              "    }\n",
              "\n",
              "    .dataframe thead th {\n",
              "        text-align: right;\n",
              "    }\n",
              "</style>\n",
              "<table border=\"1\" class=\"dataframe\">\n",
              "  <thead>\n",
              "    <tr style=\"text-align: right;\">\n",
              "      <th></th>\n",
              "      <th>TV</th>\n",
              "      <th>Radio</th>\n",
              "      <th>Newspaper</th>\n",
              "      <th>Sales</th>\n",
              "    </tr>\n",
              "  </thead>\n",
              "  <tbody>\n",
              "    <tr>\n",
              "      <th>TV</th>\n",
              "      <td>1.000000</td>\n",
              "      <td>0.054809</td>\n",
              "      <td>0.056648</td>\n",
              "      <td>0.901208</td>\n",
              "    </tr>\n",
              "    <tr>\n",
              "      <th>Radio</th>\n",
              "      <td>0.054809</td>\n",
              "      <td>1.000000</td>\n",
              "      <td>0.354104</td>\n",
              "      <td>0.349631</td>\n",
              "    </tr>\n",
              "    <tr>\n",
              "      <th>Newspaper</th>\n",
              "      <td>0.056648</td>\n",
              "      <td>0.354104</td>\n",
              "      <td>1.000000</td>\n",
              "      <td>0.157960</td>\n",
              "    </tr>\n",
              "    <tr>\n",
              "      <th>Sales</th>\n",
              "      <td>0.901208</td>\n",
              "      <td>0.349631</td>\n",
              "      <td>0.157960</td>\n",
              "      <td>1.000000</td>\n",
              "    </tr>\n",
              "  </tbody>\n",
              "</table>\n",
              "</div>"
            ],
            "text/plain": [
              "                 TV     Radio  Newspaper     Sales\n",
              "TV         1.000000  0.054809   0.056648  0.901208\n",
              "Radio      0.054809  1.000000   0.354104  0.349631\n",
              "Newspaper  0.056648  0.354104   1.000000  0.157960\n",
              "Sales      0.901208  0.349631   0.157960  1.000000"
            ]
          },
          "execution_count": 12,
          "metadata": {},
          "output_type": "execute_result"
        }
      ],
      "source": [
        "data.corr()"
      ]
    },
    {
      "cell_type": "code",
      "execution_count": 13,
      "metadata": {
        "colab": {
          "base_uri": "https://localhost:8080/",
          "height": 682
        },
        "id": "w-ZQZN-zt5C2",
        "outputId": "0f0f2cd3-d82f-4f7c-a87b-4ceb7f9718e8"
      },
      "outputs": [
        {
          "data": {
            "image/png": "[encoded data removed]",
            "text/plain": [
              "<Figure size 1000x800 with 2 Axes>"
            ]
          },
          "metadata": {},
          "output_type": "display_data"
        }
      ],
      "source": [
        "###Question 9\n",
        "import matplotlib . pyplot as plt\n",
        "import seaborn as sns\n",
        "\n",
        "plt.figure(figsize = (10 ,8))\n",
        "sns.heatmap(data.corr(), annot=True, fmt=\".2f\", linewidth=.5)  # annot is to show number value of that box\n",
        "plt.show ()"
      ]
    },
    {
      "cell_type": "markdown",
      "metadata": {
        "id": "VrNjdMuPvAHM"
      },
      "source": [
        "**3. Text Retrieval**"
      ]
    },
    {
      "cell_type": "code",
      "execution_count": 14,
      "metadata": {
        "colab": {
          "base_uri": "https://localhost:8080/"
        },
        "id": "ChKrnfxpr6gR",
        "outputId": "d2022985-f109-49b4-ab9c-a78727247a06"
      },
      "outputs": [
        {
          "name": "stderr",
          "output_type": "stream",
          "text": [
            "Downloading...\n",
            "From: https://drive.google.com/uc?id=1jh2p2DlaWsDo_vEWIcTrNh3mUuXd-cw6\n",
            "To: d:\\OneDrive\\PythonAI_Course\\Modules\\Homework\\AIO_HW_Module2\\Week4\\vi_text_retrieval.csv\n",
            "\n",
            "  0%|          | 0.00/201k [00:00<?, ?B/s]\n",
            "100%|██████████| 201k/201k [00:00<00:00, 327kB/s]\n",
            "100%|██████████| 201k/201k [00:00<00:00, 327kB/s]\n"
          ]
        }
      ],
      "source": [
        "# Download dataset :\n",
        "!gdown 1jh2p2DlaWsDo_vEWIcTrNh3mUuXd-cw6"
      ]
    },
    {
      "cell_type": "code",
      "execution_count": 16,
      "metadata": {
        "id": "AcfdEhDPvF9e"
      },
      "outputs": [],
      "source": [
        "import pandas as pd\n",
        "import numpy as np\n",
        "from sklearn.metrics.pairwise import cosine_similarity\n",
        "from sklearn.feature_extraction.text import TfidfVectorizer"
      ]
    },
    {
      "cell_type": "code",
      "execution_count": 17,
      "metadata": {
        "colab": {
          "base_uri": "https://localhost:8080/",
          "height": 423
        },
        "id": "k-O5RpaPsP9j",
        "outputId": "23452517-2e3c-4923-e7f5-97d61458d766"
      },
      "outputs": [
        {
          "data": {
            "text/html": [
              "<div>\n",
              "<style scoped>\n",
              "    .dataframe tbody tr th:only-of-type {\n",
              "        vertical-align: middle;\n",
              "    }\n",
              "\n",
              "    .dataframe tbody tr th {\n",
              "        vertical-align: top;\n",
              "    }\n",
              "\n",
              "    .dataframe thead th {\n",
              "        text-align: right;\n",
              "    }\n",
              "</style>\n",
              "<table border=\"1\" class=\"dataframe\">\n",
              "  <thead>\n",
              "    <tr style=\"text-align: right;\">\n",
              "      <th></th>\n",
              "      <th>id</th>\n",
              "      <th>question</th>\n",
              "      <th>text</th>\n",
              "    </tr>\n",
              "  </thead>\n",
              "  <tbody>\n",
              "    <tr>\n",
              "      <th>0</th>\n",
              "      <td>1570446247</td>\n",
              "      <td>Quang Hải giành được chức vô địch U21 quốc gia...</td>\n",
              "      <td>Năm 2013 , Nguyễn Quang Hải giành chức vô địch...</td>\n",
              "    </tr>\n",
              "    <tr>\n",
              "      <th>1</th>\n",
              "      <td>1570445661</td>\n",
              "      <td>Mỗi hiệp bóng đá kéo dài bao lâu</td>\n",
              "      <td>Một trận đấu bóng đá thông thường có hai hiệp ...</td>\n",
              "    </tr>\n",
              "    <tr>\n",
              "      <th>2</th>\n",
              "      <td>1570382095</td>\n",
              "      <td>Quân đội Hoa Kỳ gồm những lực lượng nào</td>\n",
              "      <td>Quân đội Hoa Kỳ hay Các lực lượng vũ trang Hoa...</td>\n",
              "    </tr>\n",
              "    <tr>\n",
              "      <th>3</th>\n",
              "      <td>1570382072</td>\n",
              "      <td>Ngọc Lan là ai</td>\n",
              "      <td>Ngọc Lan ( 28 tháng 12 năm 1956 - 6 tháng 3 20...</td>\n",
              "    </tr>\n",
              "    <tr>\n",
              "      <th>4</th>\n",
              "      <td>1570382037</td>\n",
              "      <td>Thu Phương từng được những giải thưởng nào</td>\n",
              "      <td>Cô được coi là một trong những ca sĩ thuộc thế...</td>\n",
              "    </tr>\n",
              "    <tr>\n",
              "      <th>...</th>\n",
              "      <td>...</td>\n",
              "      <td>...</td>\n",
              "      <td>...</td>\n",
              "    </tr>\n",
              "    <tr>\n",
              "      <th>495</th>\n",
              "      <td>1569486091</td>\n",
              "      <td>Dân số của Sóc Trăng đứng thứ mấy trong khu vự...</td>\n",
              "      <td>Sóc Trăng là một tỉnh ven biển thuộc đồng bằng...</td>\n",
              "    </tr>\n",
              "    <tr>\n",
              "      <th>496</th>\n",
              "      <td>1569486072</td>\n",
              "      <td>Các nguyên lý toán học của triết học tự nhiên ...</td>\n",
              "      <td>Đây là những điều cơ bản tiên quyết của cơ học...</td>\n",
              "    </tr>\n",
              "    <tr>\n",
              "      <th>497</th>\n",
              "      <td>1569486003</td>\n",
              "      <td>Biến đổi khí hậu Trái Đất là gì</td>\n",
              "      <td>Biến đổi khí hậu là những biến đổi trong môi t...</td>\n",
              "    </tr>\n",
              "    <tr>\n",
              "      <th>498</th>\n",
              "      <td>1569485614</td>\n",
              "      <td>Phanxicô Xaviê Trương Bửu Diệp mất vào năm nào</td>\n",
              "      <td>Phanxicô Xaviê Trương Bửu Diệp ( 1 tháng 1 năm...</td>\n",
              "    </tr>\n",
              "    <tr>\n",
              "      <th>499</th>\n",
              "      <td>1569485573</td>\n",
              "      <td>Mật độ dân số của vùng trung du và miền núi ph...</td>\n",
              "      <td>Vùng trung du miền núi phía bắc , trước năm 19...</td>\n",
              "    </tr>\n",
              "  </tbody>\n",
              "</table>\n",
              "<p>500 rows × 3 columns</p>\n",
              "</div>"
            ],
            "text/plain": [
              "             id                                           question  \\\n",
              "0    1570446247  Quang Hải giành được chức vô địch U21 quốc gia...   \n",
              "1    1570445661                   Mỗi hiệp bóng đá kéo dài bao lâu   \n",
              "2    1570382095            Quân đội Hoa Kỳ gồm những lực lượng nào   \n",
              "3    1570382072                                     Ngọc Lan là ai   \n",
              "4    1570382037         Thu Phương từng được những giải thưởng nào   \n",
              "..          ...                                                ...   \n",
              "495  1569486091  Dân số của Sóc Trăng đứng thứ mấy trong khu vự...   \n",
              "496  1569486072  Các nguyên lý toán học của triết học tự nhiên ...   \n",
              "497  1569486003                    Biến đổi khí hậu Trái Đất là gì   \n",
              "498  1569485614     Phanxicô Xaviê Trương Bửu Diệp mất vào năm nào   \n",
              "499  1569485573  Mật độ dân số của vùng trung du và miền núi ph...   \n",
              "\n",
              "                                                  text  \n",
              "0    Năm 2013 , Nguyễn Quang Hải giành chức vô địch...  \n",
              "1    Một trận đấu bóng đá thông thường có hai hiệp ...  \n",
              "2    Quân đội Hoa Kỳ hay Các lực lượng vũ trang Hoa...  \n",
              "3    Ngọc Lan ( 28 tháng 12 năm 1956 - 6 tháng 3 20...  \n",
              "4    Cô được coi là một trong những ca sĩ thuộc thế...  \n",
              "..                                                 ...  \n",
              "495  Sóc Trăng là một tỉnh ven biển thuộc đồng bằng...  \n",
              "496  Đây là những điều cơ bản tiên quyết của cơ học...  \n",
              "497  Biến đổi khí hậu là những biến đổi trong môi t...  \n",
              "498  Phanxicô Xaviê Trương Bửu Diệp ( 1 tháng 1 năm...  \n",
              "499  Vùng trung du miền núi phía bắc , trước năm 19...  \n",
              "\n",
              "[500 rows x 3 columns]"
            ]
          },
          "metadata": {},
          "output_type": "display_data"
        }
      ],
      "source": [
        "vi_data_df = pd.read_csv (\"./vi_text_retrieval.csv\")\n",
        "display(vi_data_df)"
      ]
    },
    {
      "cell_type": "code",
      "execution_count": 18,
      "metadata": {
        "colab": {
          "base_uri": "https://localhost:8080/"
        },
        "id": "WGv_5uQMsWDA",
        "outputId": "186863dc-a2dc-49d1-8a3c-0533f662a1eb"
      },
      "outputs": [
        {
          "name": "stdout",
          "output_type": "stream",
          "text": [
            "  (0, 1775)\t0.05325345132966253\n",
            "  (0, 200)\t0.3151807780057736\n",
            "  (0, 1658)\t0.11411971900223307\n",
            "  (0, 1927)\t0.15074511888384573\n",
            "  (0, 1125)\t0.12519435616843097\n",
            "  (0, 924)\t0.3079544280641318\n",
            "  (0, 624)\t0.10821841663105784\n",
            "  (0, 2579)\t0.2956426663544689\n",
            "  (0, 2818)\t0.3151807780057736\n",
            "  (0, 2509)\t0.40023418251134935\n",
            "  (0, 1948)\t0.12484259502421677\n",
            "  (0, 912)\t0.15960910750105828\n",
            "  (0, 690)\t0.10821841663105784\n",
            "  (0, 2603)\t0.06347316734527411\n",
            "  (0, 2834)\t0.11915996668515959\n",
            "  (0, 2386)\t0.1575903890028868\n",
            "  (0, 1088)\t0.12263649763841074\n",
            "  (0, 1798)\t0.11808348671732238\n",
            "  (0, 2567)\t0.045303505899602005\n",
            "  (0, 2460)\t0.12798505476294614\n",
            "  (0, 1764)\t0.13830685583523833\n",
            "  (0, 691)\t0.20011709125567467\n",
            "  (0, 2148)\t0.20011709125567467\n",
            "  (0, 1216)\t0.09844936080540546\n",
            "  (0, 2393)\t0.12655798205084048\n",
            "  :\t:\n",
            "  (498, 772)\t0.3983967568423319\n",
            "  (498, 1845)\t0.2071257014622154\n",
            "  (498, 2633)\t0.2071257014622154\n",
            "  (499, 1775)\t0.0671408703476896\n",
            "  (499, 2567)\t0.11423548107976668\n",
            "  (499, 1375)\t0.08971536492803045\n",
            "  (499, 685)\t0.11766191361967661\n",
            "  (499, 2555)\t0.09237042612614026\n",
            "  (499, 1620)\t0.08282277989243013\n",
            "  (499, 487)\t0.25111115321476996\n",
            "  (499, 1871)\t0.14160408935008367\n",
            "  (499, 447)\t0.1632479842024883\n",
            "  (499, 785)\t0.5156350854119288\n",
            "  (499, 2581)\t0.15310069265785065\n",
            "  (499, 2348)\t0.19323532815639904\n",
            "  (499, 2817)\t0.28102908542899047\n",
            "  (499, 2372)\t0.13364248370492585\n",
            "  (499, 2132)\t0.35408573677651545\n",
            "  (499, 992)\t0.11535219172759673\n",
            "  (499, 1229)\t0.13945485045924436\n",
            "  (499, 2609)\t0.14629788406572022\n",
            "  (499, 1510)\t0.3346458883023626\n",
            "  (499, 1774)\t0.19868676324066234\n",
            "  (499, 140)\t0.23662165656929396\n",
            "  (499, 2252)\t0.1578425027090233\n"
          ]
        },
        {
          "data": {
            "text/plain": [
              "0.31126580760710637"
            ]
          },
          "execution_count": 18,
          "metadata": {},
          "output_type": "execute_result"
        }
      ],
      "source": [
        "###Question 10\n",
        "context = vi_data_df[\"text\"]\n",
        "context = [doc.lower() for doc in context]\n",
        "tfidf_vectorizer = TfidfVectorizer()\n",
        "context_embedded = tfidf_vectorizer.fit_transform(context)\n",
        "print(context_embedded)\n",
        "context_embedded.toarray()[7][0]"
      ]
    },
    {
      "cell_type": "code",
      "execution_count": 20,
      "metadata": {
        "colab": {
          "base_uri": "https://localhost:8080/"
        },
        "id": "IiaU8iTd0Hro",
        "outputId": "89b6d6ff-66a9-4c0e-9b85-326de7c845c5"
      },
      "outputs": [
        {
          "name": "stdout",
          "output_type": "stream",
          "text": [
            "[{'id': 0, 'cosine_score': 0.6279910475266972}, {'id': 97, 'cosine_score': 0.21145795862251632}, {'id': 136, 'cosine_score': 0.1771475314979447}, {'id': 384, 'cosine_score': 0.15971218395887335}, {'id': 118, 'cosine_score': 0.1578067474650028}]\n"
          ]
        },
        {
          "data": {
            "text/plain": [
              "0.6279910475266972"
            ]
          },
          "execution_count": 20,
          "metadata": {},
          "output_type": "execute_result"
        }
      ],
      "source": [
        "###Question 11:\n",
        "def tfidf_search(question, tfidf_vectorizer, top_d =5):\n",
        "  # lowercasing before encoding\n",
        "  query_embedded = [doc.lower() for doc in question] # This line is likely causing the issue\n",
        "  cosine_scores = cosine_similarity(tfidf_vectorizer.transform(query_embedded), context_embedded)\n",
        "\n",
        "  # Get top k cosine score and index its\n",
        "  results = []\n",
        "  # Iterate over the first dimension of cosine_scores if it's 2D, otherwise assume it's 1D\n",
        "  iterable = cosine_scores[0] if cosine_scores.ndim == 2 else cosine_scores\n",
        "  for idx in iterable.argsort()[-top_d:][:: -1]:\n",
        "    doc_score = {\"id\": idx, \"cosine_score\": iterable[idx]}\n",
        "    results.append(doc_score) # Append inside the loop\n",
        "  return results\n",
        "\n",
        "# Pass a list of questions instead of a single string\n",
        "question = [vi_data_df.iloc[0][\"question\"]]\n",
        "results = tfidf_search(question, tfidf_vectorizer, top_d =5)\n",
        "print(results)\n",
        "results[0][\"cosine_score\"]"
      ]
    },
    {
      "cell_type": "code",
      "execution_count": 21,
      "metadata": {
        "id": "1kw9ihRq4EoE"
      },
      "outputs": [],
      "source": [
        "### Question 12\n",
        "from scipy import sparse"
      ]
    },
    {
      "cell_type": "code",
      "execution_count": 22,
      "metadata": {
        "colab": {
          "base_uri": "https://localhost:8080/"
        },
        "id": "QgMZZryG2c_3",
        "outputId": "05002514-91ed-4e4f-c45f-62f87c33f80c"
      },
      "outputs": [
        {
          "name": "stdout",
          "output_type": "stream",
          "text": [
            "[{'id': 0, 'corr_score': 0.6259599752568743}, {'id': 97, 'corr_score': 0.2073424647197301}, {'id': 136, 'corr_score': 0.17124615520165115}, {'id': 384, 'corr_score': 0.15520346054699796}, {'id': 118, 'corr_score': 0.15444531996663274}]\n"
          ]
        },
        {
          "data": {
            "text/plain": [
              "0.2073424647197301"
            ]
          },
          "execution_count": 22,
          "metadata": {},
          "output_type": "execute_result"
        }
      ],
      "source": [
        "def correlation(x, y):\n",
        "    \"\"\"\n",
        "    Calculate the correlation between two arrays.\n",
        "    Handles the case where y is a sparse matrix.\n",
        "    \"\"\"\n",
        "    x_mean = x.mean()\n",
        "    if sparse.issparse(y):  # Check if y is a sparse matrix\n",
        "        y_mean = y.mean()\n",
        "        numerator = ((x - x_mean) * (y - y_mean).toarray()).sum()  # Convert to dense for subtraction\n",
        "        denominator = (((x - x_mean)**2).sum() * ((y - y_mean).toarray()**2).sum()) ** 0.5\n",
        "    else:\n",
        "        y_mean = y.mean()\n",
        "        numerator = ((x - x_mean) * (y - y_mean)).sum()\n",
        "        denominator = (((x - x_mean)**2).sum() * ((y - y_mean)**2).sum()) ** 0.5\n",
        "\n",
        "    if denominator == 0:\n",
        "        return 0\n",
        "    else:\n",
        "        return numerator / denominator\n",
        "\n",
        "def corr_search(question, tfidf_vectorizer, top_d =5):\n",
        "  # lowercasing before encoding\n",
        "  query_embedded = [doc.lower() for doc in question]\n",
        "  query_embedded_transformed = tfidf_vectorizer.transform(query_embedded)\n",
        "  corr_scores = []\n",
        "  for i in range(context_embedded.shape[0]):\n",
        "    corr_scores.append(correlation(query_embedded_transformed.toarray()[0], context_embedded[i].toarray()[0]))\n",
        "\n",
        "  # Get top k correlation score and index its\n",
        "  results = []\n",
        "  for idx in np.argsort(corr_scores)[- top_d :][:: -1]:\n",
        "    doc = {\"id\": idx, \"corr_score\": corr_scores[idx]}\n",
        "    results.append (doc)\n",
        "  return results\n",
        "\n",
        "# Pass the question as a single-element list to maintain consistency\n",
        "question = [vi_data_df.iloc[0][\"question\"]]\n",
        "results = corr_search(question, tfidf_vectorizer, top_d =5)\n",
        "print(results)\n",
        "results [1][\"corr_score\"]"
      ]
    }
  ],
  "metadata": {
    "colab": {
      "provenance": []
    },
    "kernelspec": {
      "display_name": "Python 3",
      "name": "python3"
    },
    "language_info": {
      "codemirror_mode": {
        "name": "ipython",
        "version": 3
      },
      "file_extension": ".py",
      "mimetype": "text/x-python",
      "name": "python",
      "nbconvert_exporter": "python",
      "pygments_lexer": "ipython3",
      "version": "3.11.9"
    }
  },
  "nbformat": 4,
  "nbformat_minor": 0
}
